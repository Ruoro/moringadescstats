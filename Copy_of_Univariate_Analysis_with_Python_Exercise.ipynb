{
  "nbformat": 4,
  "nbformat_minor": 0,
  "metadata": {
    "colab": {
      "name": "Copy of Univariate Analysis with Python - Exercise",
      "provenance": [],
      "collapsed_sections": [
        "kLkivweO1Iii",
        "InrgA2D21MCl",
        "0CRs-dFC1ohx",
        "ck0zE_a43uV-",
        "NCrhoYJz1dUY",
        "jRKV0pa04BQH",
        "yXH8QAl71vLq",
        "6lNbN0xS4XAY",
        "QIuhupEZ1y_S",
        "GqietlVA2BUa",
        "Z6im-o4g4pK6",
        "8POt4f4D2LcH",
        "xumXllAg5A6N",
        "kKZFF5-Q6d5c",
        "32s_izI76icw",
        "DHNDapES6-4D",
        "NqN2REVg6xM7",
        "uXIKUeun7Tz6"
      ],
      "toc_visible": true
    },
    "kernelspec": {
      "name": "python3",
      "display_name": "Python 3"
    }
  },
  "cells": [
    {
      "cell_type": "markdown",
      "metadata": {
        "id": "adeOETQPnPAj"
      },
      "source": [
        "<font color=\"green\">*To start working on this notebook, or any other notebook that we will use in the Moringa Data Science Course, we will need to save our own copy of it. We can do this by clicking File > Save a Copy in Drive. We will then be able to make edits to our own copy of this notebook.*</font>"
      ]
    },
    {
      "cell_type": "markdown",
      "metadata": {
        "id": "FtNfyN9C1FSE"
      },
      "source": [
        "# Univariate Analysis with Python - Exercise"
      ]
    },
    {
      "cell_type": "markdown",
      "metadata": {
        "id": "kLkivweO1Iii"
      },
      "source": [
        "## 1.0 Importing Libraries"
      ]
    },
    {
      "cell_type": "code",
      "metadata": {
        "id": "7rB0TURq1Mfo"
      },
      "source": [
        "# Importing Pandas\n",
        "# \n",
        "import pandas as pd"
      ],
      "execution_count": 1,
      "outputs": []
    },
    {
      "cell_type": "code",
      "metadata": {
        "id": "J7sTS1pS6w17"
      },
      "source": [
        "# Importing Numpy\n",
        "#\n",
        "import numpy as np"
      ],
      "execution_count": 2,
      "outputs": []
    },
    {
      "cell_type": "code",
      "metadata": {
        "id": "T7fU_A8G3j2c"
      },
      "source": [
        "# Importing Seaborn\n",
        "#\n",
        "import seaborn as sns"
      ],
      "execution_count": 3,
      "outputs": []
    },
    {
      "cell_type": "code",
      "metadata": {
        "id": "h9m2KAfqKr_R"
      },
      "source": [
        "# Importing Matplotlib\n",
        "#\n",
        "import matplotlib.pyplot as plt"
      ],
      "execution_count": 4,
      "outputs": []
    },
    {
      "cell_type": "markdown",
      "metadata": {
        "id": "InrgA2D21MCl"
      },
      "source": [
        "## 1.2 Categorical Variables"
      ]
    },
    {
      "cell_type": "markdown",
      "metadata": {
        "id": "0CRs-dFC1ohx"
      },
      "source": [
        "### 1.21 Frequency Tables"
      ]
    },
    {
      "cell_type": "code",
      "metadata": {
        "id": "S1BPZ36A1LiF",
        "colab": {
          "base_uri": "https://localhost:8080/"
        },
        "outputId": "f72e9f18-9b8d-441f-8965-c4566d9bd34c"
      },
      "source": [
        "# Example 1\n",
        "# ---\n",
        "# Creating Frequency table of column using the value_counts() function\n",
        "# ---\n",
        "# \n",
        "\n",
        "data = {'Name':['John', 'Paul', 'Jame','Mark', 'Susan', 'Ruth', 'Ragna', 'Irene', 'Gilbert', 'Esther', 'Salome', 'Moses'],\n",
        "       'County':['Nairobi', 'Kiambu', 'Mombasa', 'Kisumu', 'Kiambu', 'Mombasa', 'Nairobi', 'Mombasa', 'Kisumu', 'Nairobi', 'Kiambu','Mombasa']}\n",
        " \n",
        "# Creating our dataframe\n",
        "frequency_df = pd.DataFrame(data, columns=['Name', 'County'])\n",
        "frequency_df\n",
        "\n",
        "# Creating our frequency table\n",
        "# ---\n",
        "frequency_df.County.value_counts()"
      ],
      "execution_count": 5,
      "outputs": [
        {
          "output_type": "execute_result",
          "data": {
            "text/plain": [
              "Mombasa    4\n",
              "Nairobi    3\n",
              "Kiambu     3\n",
              "Kisumu     2\n",
              "Name: County, dtype: int64"
            ]
          },
          "metadata": {
            "tags": []
          },
          "execution_count": 5
        }
      ]
    },
    {
      "cell_type": "markdown",
      "metadata": {
        "id": "ck0zE_a43uV-"
      },
      "source": [
        "#### <font color=\"green\">1.21 Challenges</font>"
      ]
    },
    {
      "cell_type": "code",
      "metadata": {
        "id": "UNbhFPzR33L6",
        "colab": {
          "base_uri": "https://localhost:8080/"
        },
        "outputId": "dcd6f114-fe66-42cf-ef22-ecbbe268eeba"
      },
      "source": [
        "# Challenge 1\n",
        "# ---\n",
        "# Question: Generate a frequency table from the categorical data in the following dataset\n",
        "# ---\n",
        "url = \"http://bit.ly/IrisDataset\"\n",
        "# ---\n",
        "# \n",
        "freq = pd.read_csv(url)\n",
        "freq\n",
        "# The categorical data is in the species column \n",
        "freq.species.value_counts() "
      ],
      "execution_count": 6,
      "outputs": [
        {
          "output_type": "execute_result",
          "data": {
            "text/plain": [
              "Iris-virginica     50\n",
              "Iris-setosa        50\n",
              "Iris-versicolor    50\n",
              "Name: species, dtype: int64"
            ]
          },
          "metadata": {
            "tags": []
          },
          "execution_count": 6
        }
      ]
    },
    {
      "cell_type": "markdown",
      "metadata": {
        "id": "NCrhoYJz1dUY"
      },
      "source": [
        "### 1.22 Bar Charts and Histograms"
      ]
    },
    {
      "cell_type": "code",
      "metadata": {
        "id": "_3kf4a5q1ylu",
        "colab": {
          "base_uri": "https://localhost:8080/",
          "height": 295
        },
        "outputId": "8658df71-64c7-4712-e7db-88083caacf5c"
      },
      "source": [
        "# Example 1\n",
        "# ---\n",
        "# Bar charts are used to display values associated with categorical data.\n",
        "# ---\n",
        "# \n",
        "\n",
        "# Defining our data\n",
        "x = ['Nuclear', 'Hydro', 'Gas', 'Oil', 'Coal', 'Biofuel']\n",
        "energy = [5, 6, 15, 22, 24, 8]\n",
        " \n",
        "\n",
        "plt.bar(x, energy, color='green')\n",
        "\n",
        "# Labelling our x axis\n",
        "plt.xlabel(\"Energy Source\")\n",
        "\n",
        "# Labelling our y axis\n",
        "plt.ylabel(\"Energy Output (GJ)\")\n",
        "\n",
        "# Giving a title to our Bar chart\n",
        "plt.title(\"Energy output from various fuel sources\")\n",
        "\n",
        "# Displaying our chart\n",
        "plt.show()"
      ],
      "execution_count": 7,
      "outputs": [
        {
          "output_type": "display_data",
          "data": {
            "image/png": "[encoded data removed]",
            "text/plain": [
              "<Figure size 432x288 with 1 Axes>"
            ]
          },
          "metadata": {
            "tags": [],
            "needs_background": "light"
          }
        }
      ]
    },
    {
      "cell_type": "code",
      "metadata": {
        "id": "RWgB6pZg3-o6",
        "colab": {
          "base_uri": "https://localhost:8080/",
          "height": 295
        },
        "outputId": "18acace8-2da3-4d54-9a66-3d80b798acae"
      },
      "source": [
        "# Example 2\n",
        "# ---\n",
        "# We can also create the exact same chart horizontally as shown \n",
        "# ---\n",
        "# \n",
        "\n",
        "x = ['Nuclear', 'Hydro', 'Gas', 'Oil', 'Coal', 'Biofuel']\n",
        "energy = [15, 16, 25, 32, 34, 18]  \n",
        "\n",
        "plt.barh(x, energy)\n",
        "plt.ylabel(\"Energy Source\")\n",
        "plt.xlabel(\"Energy Output (GJ)\")\n",
        "plt.title(\"Energy output from various fuel sources\")\n",
        "plt.show()"
      ],
      "execution_count": 8,
      "outputs": [
        {
          "output_type": "display_data",
          "data": {
            "image/png": "[encoded data removed]",
            "text/plain": [
              "<Figure size 432x288 with 1 Axes>"
            ]
          },
          "metadata": {
            "tags": [],
            "needs_background": "light"
          }
        }
      ]
    },
    {
      "cell_type": "code",
      "metadata": {
        "id": "n21agJh93_w0",
        "colab": {
          "base_uri": "https://localhost:8080/",
          "height": 295
        },
        "outputId": "7493406a-385b-4f55-f74c-d58c65e14ef5"
      },
      "source": [
        "# Example 3\n",
        "# ---\n",
        "# Very much like a bar chart, histograms tend to show distribution by grouping segments together. \n",
        "# Examples of this might be age groups, or scores on a test. \n",
        "# Rather than showing every single age a group might be, maybe you just show people from 20-25, 25-30... and so on.\n",
        "# ---\n",
        "#\n",
        "\n",
        "population_ages = [22, 55, 62, 45, 21, 22, 34, 42, 42, 4, 99, 102, 110, 120, 121, 122, 130, 111, 115, 112, 80, 75, 65, 54, 44, 43, 42, 48]\n",
        "bins            = [0, 10, 20, 30, 40, 50, 60, 70, 80, 90, 100, 110, 120, 130]\n",
        "\n",
        "plt.hist(population_ages, bins=10, histtype='bar', rwidth=0.9)\n",
        "\n",
        "plt.xlabel('x')\n",
        "plt.ylabel('y')\n",
        "plt.title('Histogram of Population') \n",
        "plt.show()"
      ],
      "execution_count": 9,
      "outputs": [
        {
          "output_type": "display_data",
          "data": {
            "image/png": "[encoded data removed]",
            "text/plain": [
              "<Figure size 432x288 with 1 Axes>"
            ]
          },
          "metadata": {
            "tags": [],
            "needs_background": "light"
          }
        }
      ]
    },
    {
      "cell_type": "code",
      "metadata": {
        "id": "eGXHLiBY8jbI",
        "colab": {
          "base_uri": "https://localhost:8080/",
          "height": 295
        },
        "outputId": "2ca60c38-a9b6-469e-cfae-42c80440ac75"
      },
      "source": [
        "# Example 4\n",
        "# ---\n",
        "# Creating a histogram from a given dataset using values from the points column\n",
        "# ---\n",
        "# Dataset url = http://bit.ly/WineDataset\n",
        "# ---\n",
        "#\n",
        "\n",
        "# Loading out dataset\n",
        "wine_df = pd.read_csv(\"http://bit.ly/WineDataset\")\n",
        "\n",
        "wine_points = wine_df['points']\n",
        "\n",
        "plt.hist(wine_points, bins=10, histtype='bar', rwidth=0.9)\n",
        "plt.xlabel('No. of Wines')\n",
        "plt.ylabel('Quantity')\n",
        "plt.title('Histogram of Points of Wine vs No. of Wines')\n",
        "plt.show()"
      ],
      "execution_count": 10,
      "outputs": [
        {
          "output_type": "display_data",
          "data": {
            "image/png": "[encoded data removed]",
            "text/plain": [
              "<Figure size 432x288 with 1 Axes>"
            ]
          },
          "metadata": {
            "tags": [],
            "needs_background": "light"
          }
        }
      ]
    },
    {
      "cell_type": "markdown",
      "metadata": {
        "id": "jRKV0pa04BQH"
      },
      "source": [
        "#### <font color=\"green\">1.22 Challenges</font>"
      ]
    },
    {
      "cell_type": "code",
      "metadata": {
        "id": "VWgtpnM54Mf7",
        "colab": {
          "base_uri": "https://localhost:8080/",
          "height": 0
        },
        "outputId": "c987a7b6-a9cc-4ce4-f8a0-d782e2526809"
      },
      "source": [
        "# Challenge 1\n",
        "# ---\n",
        "# Question: Create a bar chart given the following dataset\n",
        "# ---\n",
        "# \n",
        "languages = ('Python', 'C++', 'Java', 'Perl', 'Scala', 'Lisp') \n",
        "performance = [20, 18, 66, 14, 12, 11]\n",
        "\n",
        "plt.bar(languages, performance)\n",
        "plt.title(\"Programming Language Perfomance\")\n",
        "plt.xlabel ('Programming Language')\n",
        "plt.ylabel ('Performance')"
      ],
      "execution_count": 11,
      "outputs": [
        {
          "output_type": "execute_result",
          "data": {
            "text/plain": [
              "Text(0, 0.5, 'Performance')"
            ]
          },
          "metadata": {
            "tags": []
          },
          "execution_count": 11
        },
        {
          "output_type": "display_data",
          "data": {
            "image/png": "[encoded data removed]",
            "text/plain": [
              "<Figure size 432x288 with 1 Axes>"
            ]
          },
          "metadata": {
            "tags": [],
            "needs_background": "light"
          }
        }
      ]
    },
    {
      "cell_type": "code",
      "metadata": {
        "id": "FUy2tpOl4Nax",
        "colab": {
          "base_uri": "https://localhost:8080/",
          "height": 0
        },
        "outputId": "801befe0-bfbe-47cb-8cdc-92613b1ef6e2"
      },
      "source": [
        "# Challenge 2\n",
        "# ---\n",
        "# Question: Create a histogram from the following data\n",
        "# ---\n",
        "# \n",
        "x = [21, 22, 23, 4, 5, 6, 77, 8, 9, 10, 31, 32, 33, 34, 35, 36, 37, 18, 49, 50, 100]\n",
        "num_bins = 5\n",
        "\n",
        "plt.hist(x, bins = num_bins, histtype='bar', rwidth=0.9)\n",
        "plt.xlabel('x')\n",
        "plt.ylabel('y')\n",
        "plt.title (' Histogram Practice')"
      ],
      "execution_count": 12,
      "outputs": [
        {
          "output_type": "execute_result",
          "data": {
            "text/plain": [
              "Text(0.5, 1.0, ' Histogram Practice')"
            ]
          },
          "metadata": {
            "tags": []
          },
          "execution_count": 12
        },
        {
          "output_type": "display_data",
          "data": {
            "image/png": "[encoded data removed]",
            "text/plain": [
              "<Figure size 432x288 with 1 Axes>"
            ]
          },
          "metadata": {
            "tags": [],
            "needs_background": "light"
          }
        }
      ]
    },
    {
      "cell_type": "code",
      "metadata": {
        "id": "eQV9iT2u4Po_",
        "colab": {
          "base_uri": "https://localhost:8080/",
          "height": 0
        },
        "outputId": "e3422286-e3ca-4923-955d-96d06d156a61"
      },
      "source": [
        "# Challenge 3\n",
        "# ---\n",
        "# Question: Create a histogram from a given dataset using values from the sepal length column\n",
        "# ---\n",
        "url = \"http://bit.ly/IrisDataset\"\n",
        "# ---\n",
        "# \n",
        "flowerdf = pd.read_csv(url)\n",
        "flowerdf\n",
        "\n",
        "sepal_len = flowerdf['sepal_length']\n",
        "\n",
        "plt.hist(sepal_len, histtype = \"bar\", rwidth=0.9)\n",
        "plt.title(\"Sepal Length Frequency\")\n",
        "plt.ylabel('Sepal Length')\n",
        "plt.xlabel('x')"
      ],
      "execution_count": 13,
      "outputs": [
        {
          "output_type": "execute_result",
          "data": {
            "text/plain": [
              "Text(0.5, 0, 'x')"
            ]
          },
          "metadata": {
            "tags": []
          },
          "execution_count": 13
        },
        {
          "output_type": "display_data",
          "data": {
            "image/png": "[encoded data removed]",
            "text/plain": [
              "<Figure size 432x288 with 1 Axes>"
            ]
          },
          "metadata": {
            "tags": [],
            "needs_background": "light"
          }
        }
      ]
    },
    {
      "cell_type": "markdown",
      "metadata": {
        "id": "yXH8QAl71vLq"
      },
      "source": [
        "### 1.23 Pie Charts"
      ]
    },
    {
      "cell_type": "code",
      "metadata": {
        "id": "UXYA0eoB09kd",
        "colab": {
          "base_uri": "https://localhost:8080/",
          "height": 268
        },
        "outputId": "6bb7d5cc-e25d-41cd-ac9b-54c5478c25b4"
      },
      "source": [
        "# Example 1\n",
        "# ---\n",
        "# Question: Create a pie chart usig the sizes list given below\n",
        "# ---\n",
        "#\n",
        "\n",
        "# Defining our labels, sizes, colors and explode (this will explode the 1st slice)\n",
        "labels = 'Python', 'C++', 'Ruby', 'Java'\n",
        "sizes  = [215, 130, 245, 210]\n",
        "colors = ['gold', 'yellowgreen', 'lightcoral', 'lightskyblue']\n",
        "\n",
        "# Highlights a particular Value in plot\n",
        "explode = (0.1, 0, 0, 0)  \n",
        "\n",
        "# Plotting our pie chart\n",
        "plt.pie(sizes, explode=explode, labels=labels, colors=colors,\n",
        "autopct='%1.1f%%', shadow=True, startangle=140)\n",
        "\n",
        "plt.axis('equal')\n",
        "plt.title('Pie Chart of Programming Languages')\n",
        "plt.show()"
      ],
      "execution_count": 14,
      "outputs": [
        {
          "output_type": "display_data",
          "data": {
            "image/png": "[encoded data removed]",
            "text/plain": [
              "<Figure size 432x288 with 1 Axes>"
            ]
          },
          "metadata": {
            "tags": []
          }
        }
      ]
    },
    {
      "cell_type": "code",
      "metadata": {
        "id": "4IIwpXsF4To9",
        "colab": {
          "base_uri": "https://localhost:8080/",
          "height": 264
        },
        "outputId": "5dae63ac-a4a4-4d0e-ab84-4b412ef1ee80"
      },
      "source": [
        "# Example 2\n",
        "# ---\n",
        "# Question: Create a pie chart to show the distribution of age and population\n",
        "# ---\n",
        "# \n",
        "\n",
        "# Loading out dataset\n",
        "df = pd.read_csv(\"http://bit.ly/AgePopulationDataset\")\n",
        "\n",
        "# Previewing the dataset \n",
        "df.head()\n",
        "\n",
        "# Assigning our columns to population and age variables\n",
        "population = df['population']\n",
        "age        = df['age']\n",
        "\n",
        "# Plotting our pie chart\n",
        "# -------\n",
        "plt.pie(population, labels = age, autopct = '%1.1f%%', shadow = True, startangle = 140)\n",
        "plt.axis('equal')\n",
        "plt.title('Pie Chart of Age population')\n",
        "plt.show()"
      ],
      "execution_count": 15,
      "outputs": [
        {
          "output_type": "display_data",
          "data": {
            "image/png": "[encoded data removed]",
            "text/plain": [
              "<Figure size 432x288 with 1 Axes>"
            ]
          },
          "metadata": {
            "tags": []
          }
        }
      ]
    },
    {
      "cell_type": "markdown",
      "metadata": {
        "id": "6lNbN0xS4XAY"
      },
      "source": [
        "#### <font color=\"green\">1.23 Challenges</font>"
      ]
    },
    {
      "cell_type": "code",
      "metadata": {
        "id": "SDYT8o0U4WE9",
        "colab": {
          "base_uri": "https://localhost:8080/",
          "height": 264
        },
        "outputId": "432ecf19-ede1-4d2b-8b0a-aa7443958c76"
      },
      "source": [
        "# Challenge 1\n",
        "# ---\n",
        "# Question: Create a pie chart of county population given the following\n",
        "# ---\n",
        "# \n",
        "\n",
        "county_population = [12344408, 2441523, 30523371, 110012442, 47886051]\n",
        "counties = ['Thika', 'Mombasa', 'Kisumu', 'Nairobi', 'Nakuru']\n",
        "\n",
        "plt.pie(county_population, labels = counties, autopct = '%1.1f%%', shadow = True, startangle = 140)\n",
        "plt.axis('equal')\n",
        "plt.title(\"Pie chart of Counties Population\")\n",
        "plt.show()"
      ],
      "execution_count": 16,
      "outputs": [
        {
          "output_type": "display_data",
          "data": {
            "image/png": "[encoded data removed]",
            "text/plain": [
              "<Figure size 432x288 with 1 Axes>"
            ]
          },
          "metadata": {
            "tags": []
          }
        }
      ]
    },
    {
      "cell_type": "code",
      "metadata": {
        "id": "TbZ_CRfxlvDB"
      },
      "source": [
        ""
      ],
      "execution_count": 16,
      "outputs": []
    },
    {
      "cell_type": "code",
      "metadata": {
        "id": "xRcsBrgL4jDB",
        "colab": {
          "base_uri": "https://localhost:8080/",
          "height": 248
        },
        "outputId": "f3d243c9-83a2-4090-c11f-2d3ed7441cbf"
      },
      "source": [
        "# Challenge 2\n",
        "# ---\n",
        "# Question: Acting as Chief Data Strategist for a ride sharing company, \n",
        "# you are expected to offer data-backed guidance on new opportunities for market differentiation.\n",
        "# Merge the two datasets into a single dataset based on the cities they share then \n",
        "# produce the following pie chart: Pie Chart of % of Total Fares by City Type.\n",
        "# Hint: When making the pie Chart, experiment with effects like shadow, startangle, and explosion\n",
        "# ---\n",
        "url1 = 'http://bit.ly/City-RideDataset'\n",
        "url2 = 'http://bit.ly/RideDataset'\n",
        "# ---\n",
        "\n",
        "dset1 = pd.read_csv(url1)\n",
        "dset2 = pd.read_csv(url2)\n",
        "\n",
        "merged_df = pd.merge(dset1, dset2, on=\"city\")\n",
        "merged_df\n",
        "group_df = merged_df.groupby(\"city\")['fare'].sum()\n",
        "group_df\n",
        "\n",
        "city = merged_df['type'].unique()\n",
        "fare =  merged_df.groupby(\"type\")['fare'].sum()\n",
        "explode = (0.1, 0.1, 0.1) \n",
        "plt.pie(fare, labels = city, autopct = '%1.1f%%', explode=explode , shadow = True, startangle = 140)\n",
        "plt.axis('equal')\n",
        "plt.show()"
      ],
      "execution_count": 18,
      "outputs": [
        {
          "output_type": "display_data",
          "data": {
            "image/png": "[encoded data removed]",
            "text/plain": [
              "<Figure size 432x288 with 1 Axes>"
            ]
          },
          "metadata": {
            "tags": []
          }
        }
      ]
    },
    {
      "cell_type": "code",
      "metadata": {
        "id": "EpTRmGQF4kyA",
        "colab": {
          "base_uri": "https://localhost:8080/",
          "height": 264
        },
        "outputId": "af010835-6f27-4d20-d8cd-da041f563255"
      },
      "source": [
        "# Challenge 3\n",
        "# ---\n",
        "# Question: From the combined dataset in Challenge 2, \n",
        "# create a pie chart of % of Total Rides by City Type\n",
        "# ---\n",
        "#\n",
        "city = merged_df['type'].unique()\n",
        "rides = merged_df.groupby(\"type\")['ride_id'].sum()\n",
        "explode = (0.1, 0.1, 0.1) \n",
        "plt.pie(rides, labels = city, autopct = '%1.1f%%', explode=explode , shadow = True, startangle = 140)\n",
        "plt.axis('equal')\n",
        "\n",
        "plt.title('Pie Chart of % of Total Rides by City Type')\n",
        "plt.show()\n"
      ],
      "execution_count": 20,
      "outputs": [
        {
          "output_type": "display_data",
          "data": {
            "image/png": "[encoded data removed]",
            "text/plain": [
              "<Figure size 432x288 with 1 Axes>"
            ]
          },
          "metadata": {
            "tags": []
          }
        }
      ]
    },
    {
      "cell_type": "code",
      "metadata": {
        "id": "H4FACJNg6kPw"
      },
      "source": [
        "# Challenge 4\n",
        "# ---\n",
        "# Question: From the combined dataset in Challenge 2, \n",
        "# create a pie chart % of Total Drivers by City Type\n",
        "# ---\n",
        "#\n",
        "OUR CODE GOES HERE"
      ],
      "execution_count": null,
      "outputs": []
    },
    {
      "cell_type": "markdown",
      "metadata": {
        "id": "QIuhupEZ1y_S"
      },
      "source": [
        "## 1.3 Numerical Variables"
      ]
    },
    {
      "cell_type": "markdown",
      "metadata": {
        "id": "GqietlVA2BUa"
      },
      "source": [
        "### 1.31 Measures of Central Tendency"
      ]
    },
    {
      "cell_type": "code",
      "metadata": {
        "id": "u_W0Wibz13A8",
        "colab": {
          "base_uri": "https://localhost:8080/"
        },
        "outputId": "22899126-274a-4837-b60f-1925c4eb131d"
      },
      "source": [
        "# Example 1: Mean\n",
        "# Mean or Average is a central tendency of the data i.e. a number around which a whole data is spread out. \n",
        "# In a way, it is a single number which can estimate the value of whole data set.\n",
        "# ---\n",
        "# Question: From the following dataset, What is the mean monthly consumption and export of tea in millions of kg between 2003 and 2015\n",
        "# Dataset url = http://bit.ly/tea-exports\n",
        "# ---\n",
        "\n",
        "# Loading the dataset\n",
        "tea_exports_df = pd.read_csv(\"http://bit.ly/tea-exports\")\n",
        "\n",
        "# Previewing the dataset\n",
        "# tea_exports_df.head()\n",
        "\n",
        "# Finding the mean\n",
        "tea_exports_df[\"Millions_in_KGS_\"].mean()"
      ],
      "execution_count": 21,
      "outputs": [
        {
          "output_type": "execute_result",
          "data": {
            "text/plain": [
              "24.452987654321003"
            ]
          },
          "metadata": {
            "tags": []
          },
          "execution_count": 21
        }
      ]
    },
    {
      "cell_type": "code",
      "metadata": {
        "id": "2DPrdaoc16tZ",
        "colab": {
          "base_uri": "https://localhost:8080/"
        },
        "outputId": "27b7f20b-f10f-481b-f997-daec0b30b97d"
      },
      "source": [
        "# Example 2: Median\n",
        "# Median is the value which divides the data in 2 equal parts i.e. number of terms on right side of it \n",
        "# is same as number of terms on left side of it when data is arranged in either ascending or descending order.\n",
        "# ---\n",
        "# Question: From the following dataset, What was the monthly median fish production(kgs) in Kisumu sub county?\n",
        "# Dataset url = http://bit.ly/Kisumu-fish-production\n",
        "# ---\n",
        "# \n",
        "\n",
        "# Loading the dataset\n",
        "kisumu_fish_production_df = pd.read_csv(\"http://bit.ly/Kisumu-fish-production\")\n",
        "\n",
        "# Previewing the dataset\n",
        "kisumu_fish_production_df.head()\n",
        "\n",
        "# Finding the median\n",
        "kisumu_fish_production_df[\"WEIGHT_KGS\"].median()"
      ],
      "execution_count": 23,
      "outputs": [
        {
          "output_type": "execute_result",
          "data": {
            "text/plain": [
              "2424.0"
            ]
          },
          "metadata": {
            "tags": []
          },
          "execution_count": 23
        }
      ]
    },
    {
      "cell_type": "code",
      "metadata": {
        "id": "eYO9eGyH125E",
        "colab": {
          "base_uri": "https://localhost:8080/"
        },
        "outputId": "2561a405-d24f-4b0a-8fa3-8c637eb0e538"
      },
      "source": [
        "# Example 3: Mode \n",
        "# Mode is the term appearing maximum time in data set i.e. term that has highest frequency.\n",
        "# ---\n",
        "# Question: From the given dataset, what was the mode target yield bags per hectare during the long rains?\n",
        "# Dataset url = http://bit.ly/Kisumu-crop-statistics\n",
        "# ---\n",
        "#\n",
        "\n",
        "# Loading the dataset\n",
        "kisumu_crop_statistics_df = pd.read_csv(\"http://bit.ly/Kisumu-crop-statistics\")\n",
        "\n",
        "# Previewing the dataset\n",
        "kisumu_crop_statistics_df.head()\n",
        "\n",
        "# Finding the median\n",
        "kisumu_crop_statistics_df[\"TARGET_YIELD__BAG/HA_LONG_RAINS\"].mode()"
      ],
      "execution_count": 27,
      "outputs": [
        {
          "output_type": "execute_result",
          "data": {
            "text/plain": [
              "0    10\n",
              "dtype: int64"
            ]
          },
          "metadata": {
            "tags": []
          },
          "execution_count": 27
        }
      ]
    },
    {
      "cell_type": "markdown",
      "metadata": {
        "id": "Z6im-o4g4pK6"
      },
      "source": [
        "#### <font color=\"green\">1.32 Challenges</font>"
      ]
    },
    {
      "cell_type": "code",
      "metadata": {
        "id": "bd8oXas94osH",
        "colab": {
          "base_uri": "https://localhost:8080/"
        },
        "outputId": "e467c6d0-eff9-46ef-acf9-214232a1009b"
      },
      "source": [
        "# Challenge 1: Mean\n",
        "# ---\n",
        "# Question: What was the mean target production bags of 90kg during short rains?\n",
        "# Dataset url = http://bit.ly/Kisumu-crop-statistics\n",
        "# ---\n",
        "# \n",
        "# Previewing the dataset\n",
        "kisumu_crop_statistics_df.head()\n",
        "# mean \n",
        "kisumu_crop_statistics_df[\"TARGET_YIELD__BAG/HA_SHORT_RAINS\"].mean()"
      ],
      "execution_count": 31,
      "outputs": [
        {
          "output_type": "execute_result",
          "data": {
            "text/plain": [
              "14.575757575757576"
            ]
          },
          "metadata": {
            "tags": []
          },
          "execution_count": 31
        }
      ]
    },
    {
      "cell_type": "code",
      "metadata": {
        "id": "lOwXYPaO4x7u",
        "colab": {
          "base_uri": "https://localhost:8080/"
        },
        "outputId": "9aeb7e75-cff5-4eb9-909f-739040db8329"
      },
      "source": [
        "# Challenge 2: Median\n",
        "# ---\n",
        "# Question: What was the median target production bags during long rains?\n",
        "# Dataset url = http://bit.ly/Kisumu-crop-statistics\n",
        "# ---\n",
        "#\n",
        "# Previewing the dataset\n",
        "kisumu_crop_statistics_df.head()\n",
        "kisumu_crop_statistics_df['TARGET_PRODUCTION_BAGS_LONG_RAINS'].median()"
      ],
      "execution_count": 32,
      "outputs": [
        {
          "output_type": "execute_result",
          "data": {
            "text/plain": [
              "3075.0"
            ]
          },
          "metadata": {
            "tags": []
          },
          "execution_count": 32
        }
      ]
    },
    {
      "cell_type": "code",
      "metadata": {
        "id": "JyOIjUMD4y-7",
        "colab": {
          "base_uri": "https://localhost:8080/"
        },
        "outputId": "ae448d7a-f38a-4308-b969-575f2c6a466f"
      },
      "source": [
        "# Challenge 3: Mode \n",
        "# ---\n",
        "# Question: What was the mode projected yield bags per hectare during short rains?\n",
        "# Dataset url = http://bit.ly/Kisumu-crop-statistics\n",
        "# ---\n",
        "# preview the dataset\n",
        "kisumu_crop_statistics_df.head()\n",
        "# mode\n",
        "kisumu_crop_statistics_df['PROJECTED_YIELD_BAG/HA_SHORT_RAINS'].mode()"
      ],
      "execution_count": 34,
      "outputs": [
        {
          "output_type": "execute_result",
          "data": {
            "text/plain": [
              "0    0.0\n",
              "dtype: float64"
            ]
          },
          "metadata": {
            "tags": []
          },
          "execution_count": 34
        }
      ]
    },
    {
      "cell_type": "markdown",
      "metadata": {
        "id": "8POt4f4D2LcH"
      },
      "source": [
        "### 1.32 Measures of Dispersion/Variability/Spread"
      ]
    },
    {
      "cell_type": "code",
      "metadata": {
        "id": "kZeJoLg_2R3Q",
        "colab": {
          "base_uri": "https://localhost:8080/"
        },
        "outputId": "0c23a3b0-2d7b-47ee-d5e6-793f9a7859f1"
      },
      "source": [
        "# Example 1: Standard Deviation  \n",
        "# Standard deviation is the measurement of average distance between each quantity and mean. \n",
        "# That is, how data is spread out from mean. A low standard deviation indicates that the data points \n",
        "# tend to be close to the mean of the data set, while a high standard deviation indicates that the \n",
        "# data points are spread out over a wider range of values.\n",
        "# There are situations when we have to choose between sample or population Standard Deviation. \n",
        "# When we are asked to find SD of some part of a population, a segment of population; \n",
        "# then we use sample Standard Deviation. But when we have to deal with a whole population, \n",
        "# then we use population Standard Deviation. As you know, in descriptive statistics, \n",
        "# we generally deal with a data available in a sample, not in a population.\n",
        "# ---\n",
        "# Question: What was the standard deviation for the Nakuru Couty Herbicide average prices?\n",
        "# Dataset url = http://bit.ly/NakuruCountyHerbicidePrices\n",
        "# ----\n",
        "# \n",
        "\n",
        "# Loading the dataset\n",
        "nakuru_county_herbicide_prices_df = pd.read_csv(\"http://bit.ly/NakuruCountyHerbicidePrices\")\n",
        "\n",
        "# Previewing the dataset\n",
        "nakuru_county_herbicide_prices_df.head()\n",
        "\n",
        "# Finding the standard deviation\n",
        "nakuru_county_herbicide_prices_df[\"Average_Price\"].std()"
      ],
      "execution_count": 36,
      "outputs": [
        {
          "output_type": "execute_result",
          "data": {
            "text/plain": [
              "2539.974525115418"
            ]
          },
          "metadata": {
            "tags": []
          },
          "execution_count": 36
        }
      ]
    },
    {
      "cell_type": "code",
      "metadata": {
        "id": "P8vUwmx3-8iB",
        "colab": {
          "base_uri": "https://localhost:8080/"
        },
        "outputId": "e5f6db1d-544a-40af-b732-4c79679bc6ff"
      },
      "source": [
        "# Example 2: Variance\n",
        "# Variance is a square of average distance between each quantity and mean. \n",
        "# That is it is square of standard deviation. It is a measure of how dispersed or spread out the set is, \n",
        "# something that the “average” (mean or median) is not designed to do. \n",
        "# If I tell you a data set has a variance of zero, for example, you know that every member of it is the same. \n",
        "# If the variance is high, especially as a ratio to the mean, \n",
        "# that tells you that the data have some very large dis-similarities amongst its members. \n",
        "# If one considers the mean to be a sort of centre of the data, \n",
        "# the variance tells you how scattered around the centre of mass the points are.\n",
        "# ---\n",
        "# Question: What was the variance of the Nakuru Couty Herbicide average prices?\n",
        "# Dataset url = http://bit.ly/NakuruCountyHerbicidePrices\n",
        "# ---\n",
        "#  \n",
        "\n",
        "# Finding the variance of the herbicide average prices\n",
        "nakuru_county_herbicide_prices_df[\"Average_Price\"].var()"
      ],
      "execution_count": 37,
      "outputs": [
        {
          "output_type": "execute_result",
          "data": {
            "text/plain": [
              "6451470.5882352935"
            ]
          },
          "metadata": {
            "tags": []
          },
          "execution_count": 37
        }
      ]
    },
    {
      "cell_type": "code",
      "metadata": {
        "id": "j73naeos2RRR",
        "colab": {
          "base_uri": "https://localhost:8080/"
        },
        "outputId": "52785f4e-5ed2-4a8c-da69-75ed76a35668"
      },
      "source": [
        "# Examples 3: Range\n",
        "# Range is one of the simplest techniques of descriptive statistics. \n",
        "# It is the difference between lowest and highest value.\n",
        "# ---\n",
        "# Question: What was the range of the Nakuru county herbicide prices?\n",
        "# Dataset url = http://bit.ly/NakuruCountyHerbicidePrices\n",
        "# ---\n",
        "#\n",
        "\n",
        "# Finding the min and max values of the herbicide average prices\n",
        "nakuru_county_herbicide_prices_max = nakuru_county_herbicide_prices_df[\"Average_Price\"].max()\n",
        "nakuru_county_herbicide_prices_min = nakuru_county_herbicide_prices_df[\"Average_Price\"].min()\n",
        "\n",
        "# Calculating the range\n",
        "nakuru_county_herbicide_prices_max - nakuru_county_herbicide_prices_min"
      ],
      "execution_count": 38,
      "outputs": [
        {
          "output_type": "execute_result",
          "data": {
            "text/plain": [
              "7450"
            ]
          },
          "metadata": {
            "tags": []
          },
          "execution_count": 38
        }
      ]
    },
    {
      "cell_type": "code",
      "metadata": {
        "id": "UobGI2kj2Q3Y",
        "colab": {
          "base_uri": "https://localhost:8080/"
        },
        "outputId": "54867bb7-683b-4dca-f565-eeaef3f6ad61"
      },
      "source": [
        "# Example 4: Quantiles \n",
        "# In statistics and probability, quartiles are values that divide your data into quarters provided data is sorted in an ascending order. \n",
        "# There are three quartile values. First quartile value is at 25 percentile. \n",
        "# Second quartile is 50 percentile and third quartile is 75 percentile. \n",
        "# Second quartile (Q2) is median of the whole data. First quartile (Q1) is median of upper half of the data. \n",
        "# And Third Quartile (Q3) is median of lower half of the data.\n",
        "# ---\n",
        "# Question: Determine the quantiles of the Nakuru county herbicide prices\n",
        "# Dataset url = http://bit.ly/NakuruCountyHerbicidePrices\n",
        "# ---\n",
        "# \n",
        "\n",
        "# Finding the quantiles of the herbicide average prices\n",
        "nakuru_county_herbicide_prices_df[\"Average_Price\"].quantile([0.25,0.5,0.75])"
      ],
      "execution_count": 41,
      "outputs": [
        {
          "output_type": "execute_result",
          "data": {
            "text/plain": [
              "0.25    1162.5\n",
              "0.50    1875.0\n",
              "0.75    3900.0\n",
              "Name: Average_Price, dtype: float64"
            ]
          },
          "metadata": {
            "tags": []
          },
          "execution_count": 41
        }
      ]
    },
    {
      "cell_type": "code",
      "metadata": {
        "id": "j_9rzQpe3UEE",
        "colab": {
          "base_uri": "https://localhost:8080/"
        },
        "outputId": "b70bd556-8dbe-4c2f-dd83-a3198f06aebd"
      },
      "source": [
        "# Examples 5: Skewness\n",
        "# Skewness is a measure of the asymmetry of the probability distribution (http://bit.ly/ProbabilityDistribution)\n",
        "# of a real-valued random variable about its mean. The skewness value can be positive or negative, or undefined.\n",
        "# In a perfect normal distribution, the tails on either side of the curve are exact mirror images of each other.\n",
        "# When a distribution is skewed to the left, the tail on the curve’s left-hand side is longer than the tail on the right-hand side,\n",
        "# and the mean is less than the mode. This situation is also called negative skewness.\n",
        "# When a distribution is skewed to the right, the tail on the curve’s right-hand side is longer than the tail on the left-hand side, \n",
        "# and the mean is greater than the mode. This situation is also called positive skewness.\n",
        "# It is important for researchers from the behavioral and business sciences to measure skewness when it appears in their data. \n",
        "# Great amount of skewness may motivate the data scientist to investigate the existence of outliers. \n",
        "# When making decisions about which measure of location to report and which inferential statistic to employ, \n",
        "# one should take into consideration the estimated skewness of the population.\n",
        "# A negative value means the distribution is negatively skewed. A positive value means the distribution is positively skewed.\n",
        "# ---\n",
        "# Question: Determine the skewness of the Nakuru county herbicide prices.\n",
        "# Dataset url = http://bit.ly/NakuruCountyHerbicidePrices\n",
        "# ---\n",
        "#\n",
        "\n",
        "# Determining the skeweness\n",
        "nakuru_county_herbicide_prices_df[\"Average_Price\"].skew()"
      ],
      "execution_count": 42,
      "outputs": [
        {
          "output_type": "execute_result",
          "data": {
            "text/plain": [
              "1.0944233329783948"
            ]
          },
          "metadata": {
            "tags": []
          },
          "execution_count": 42
        }
      ]
    },
    {
      "cell_type": "code",
      "metadata": {
        "id": "HTwjeGEy3XAB",
        "colab": {
          "base_uri": "https://localhost:8080/"
        },
        "outputId": "cb68fe13-031d-4817-e6ed-d1551708828a"
      },
      "source": [
        "# Examples 6: Kurtosis\n",
        "# The exact interpretation of the measure of Kurtosis used to be disputed, but is now settled. \n",
        "# Its about existence of outliers. Kurtosis is a measure of whether the data are heavy-tailed (profusion of outliers)\n",
        "# or light-tailed (lack of outliers) relative to a normal distribution.\n",
        "# There are three types of Kurtosis: Mesokurtic, Leptokurtic, Mesokurtic and Platykurtic. \n",
        "# ***\n",
        "# Mesokurtic is the distribution which has similar kurtosis as normal distribution kurtosis, which is zero.\n",
        "# ***\n",
        "# Leptokurtic is the distribution which has kurtosis greater than a Mesokurtic distribution. Tails of such distributions are thick and heavy. \n",
        "# If the curve of a distribution is more peaked than Mesokurtic curve, it is referred to as a Leptokurtic curve.\n",
        "# ***\n",
        "# Platykurtic is the distribution which has kurtosis lesser than a Mesokurtic distribution. Tails of such distributions thinner. \n",
        "# If a curve of a distribution is less peaked than a Mesokurtic curve, it is referred to as a Platykurtic curve.\n",
        "# \n",
        "# If the kurtosis is close to 0, then a normal distribution is often assumed. These are called mesokurtic distributions. \n",
        "# If the kurtosis is less than zero, then the distribution is light tails and is called a platykurtic distribution.  \n",
        "# If the kurtosis is greater than zero, then the distribution has heavier tails and is called a leptokurtic distribution.\n",
        "# ---\n",
        "# Question: Determine the Kurtosis of the Nakuru county herbicide prices \n",
        "# Dataset url = http://bit.ly/NakuruCountyHerbicidePrices\n",
        "# ---\n",
        "#\n",
        "\n",
        "# Determining the skeweness \n",
        "nakuru_county_herbicide_prices_df[\"Average_Price\"].kurt()"
      ],
      "execution_count": 43,
      "outputs": [
        {
          "output_type": "execute_result",
          "data": {
            "text/plain": [
              "-0.1522981864221693"
            ]
          },
          "metadata": {
            "tags": []
          },
          "execution_count": 43
        }
      ]
    },
    {
      "cell_type": "code",
      "metadata": {
        "id": "cN5YUpsblCLC",
        "colab": {
          "base_uri": "https://localhost:8080/"
        },
        "outputId": "fb63c6ca-37f4-44e9-a888-76d432d8a2ed"
      },
      "source": [
        "# Example 7: Displaying the summary statistics of the dataframe\n",
        "# \n",
        "nakuru_county_herbicide_prices_df['Average_Price'].describe()\n"
      ],
      "execution_count": 44,
      "outputs": [
        {
          "output_type": "execute_result",
          "data": {
            "text/plain": [
              "count      18.000000\n",
              "mean     2933.333333\n",
              "std      2539.974525\n",
              "min       550.000000\n",
              "25%      1162.500000\n",
              "50%      1875.000000\n",
              "75%      3900.000000\n",
              "max      8000.000000\n",
              "Name: Average_Price, dtype: float64"
            ]
          },
          "metadata": {
            "tags": []
          },
          "execution_count": 44
        }
      ]
    },
    {
      "cell_type": "markdown",
      "metadata": {
        "id": "xumXllAg5A6N"
      },
      "source": [
        "#### <font color=\"green\">1.32 Challenges</font>"
      ]
    },
    {
      "cell_type": "code",
      "metadata": {
        "id": "gXnEzujX5Gi0",
        "colab": {
          "base_uri": "https://localhost:8080/"
        },
        "outputId": "9e04fdc3-d2a7-4ba1-847d-d2faef53fe5b"
      },
      "source": [
        "# Challenge 1: Standard Deviation\n",
        "# ---\n",
        "# What was the variance of end of reporting month surplus for the 90kg bags?\n",
        "# Dataset url = http://bit.ly/KisumuFoodSecurtyDataset\n",
        "# ---\n",
        "url = 'http://bit.ly/KisumuFoodSecurtyDataset'\n",
        "# \n",
        "kisumu_food_security_df = pd.read_csv(url)\n",
        "# preview dataset\n",
        "kisumu_food_security_df.head()\n",
        "# standard deviation\n",
        "kisumu_food_security_df['End_of_reporting_month_surplus-_90_Kg_bags'].std()"
      ],
      "execution_count": 46,
      "outputs": [
        {
          "output_type": "execute_result",
          "data": {
            "text/plain": [
              "16791.401843156884"
            ]
          },
          "metadata": {
            "tags": []
          },
          "execution_count": 46
        }
      ]
    },
    {
      "cell_type": "code",
      "metadata": {
        "id": "233fZPZb3aE8",
        "colab": {
          "base_uri": "https://localhost:8080/"
        },
        "outputId": "aa7b4131-c465-4e26-8c12-6591f7e29fbf"
      },
      "source": [
        "# Challenge 2: Variance \n",
        "# ---\n",
        "# What was the variance of end of reporting month surplus for the 90kg bags?\n",
        "# Dataset url = http://bit.ly/KisumuFoodSecurityDataset\n",
        "# ---\n",
        "# \n",
        "kisumu_food_security_df['End_of_reporting_month_surplus-_90_Kg_bags'].var()"
      ],
      "execution_count": 47,
      "outputs": [
        {
          "output_type": "execute_result",
          "data": {
            "text/plain": [
              "281951175.85837245"
            ]
          },
          "metadata": {
            "tags": []
          },
          "execution_count": 47
        }
      ]
    },
    {
      "cell_type": "code",
      "metadata": {
        "id": "0V7cj3tZ5Ive",
        "colab": {
          "base_uri": "https://localhost:8080/"
        },
        "outputId": "d8b399d6-40e9-49cc-8350-ec84989ce484"
      },
      "source": [
        "# Challenge 3: Range\n",
        "# ---\n",
        "# What was the range of end of reporting month surplus for the 90kg bags?\n",
        "# Dataset url = http://bit.ly/KisumuFoodSecurityDataset\n",
        "# ---\n",
        "#find the maximum and minimum \n",
        "reporting_month_surplus_max = kisumu_food_security_df['End_of_reporting_month_surplus-_90_Kg_bags'].max()\n",
        "reporting_month_surplus_min = kisumu_food_security_df['End_of_reporting_month_surplus-_90_Kg_bags'].min()\n",
        "\n",
        "# Range\n",
        "reporting_month_surplus_max - reporting_month_surplus_min"
      ],
      "execution_count": 49,
      "outputs": [
        {
          "output_type": "execute_result",
          "data": {
            "text/plain": [
              "59835"
            ]
          },
          "metadata": {
            "tags": []
          },
          "execution_count": 49
        }
      ]
    },
    {
      "cell_type": "code",
      "metadata": {
        "id": "goQeGKwvEYTR",
        "colab": {
          "base_uri": "https://localhost:8080/"
        },
        "outputId": "6dc55c0e-ed37-4ff0-d8d2-14bfed8068ac"
      },
      "source": [
        "# Challenge 4: Quantiles\n",
        "# ---\n",
        "# What was the range of end of reporting month surplus for the 90kg bags?\n",
        "# Dataset url = http://bit.ly/KisumuFoodSecurityDataset\n",
        "# ---\n",
        "# \n",
        "kisumu_food_security_df['End_of_reporting_month_surplus-_90_Kg_bags'].quantile([0.25, 0.50, 0.75])"
      ],
      "execution_count": 51,
      "outputs": [
        {
          "output_type": "execute_result",
          "data": {
            "text/plain": [
              "0.25     2412.5\n",
              "0.50     3968.0\n",
              "0.75    24584.0\n",
              "Name: End_of_reporting_month_surplus-_90_Kg_bags, dtype: float64"
            ]
          },
          "metadata": {
            "tags": []
          },
          "execution_count": 51
        }
      ]
    },
    {
      "cell_type": "code",
      "metadata": {
        "id": "9i9AaOF-EZ7M",
        "colab": {
          "base_uri": "https://localhost:8080/"
        },
        "outputId": "e492e706-8b6a-4b8c-a34b-ec31a6a4ff2e"
      },
      "source": [
        "# Challenge 5: Skewness\n",
        "# ---\n",
        "# What was the skewness of end of reporting month surplus for the 90kg bags?\n",
        "# Dataset url = http://bit.ly/KisumuFoodSecurityDataset\n",
        "# ---\n",
        "# \n",
        "kisumu_food_security_df['End_of_reporting_month_surplus-_90_Kg_bags'].skew()"
      ],
      "execution_count": 52,
      "outputs": [
        {
          "output_type": "execute_result",
          "data": {
            "text/plain": [
              "1.1041466566572853"
            ]
          },
          "metadata": {
            "tags": []
          },
          "execution_count": 52
        }
      ]
    },
    {
      "cell_type": "code",
      "metadata": {
        "id": "jJG08eSTEbG6",
        "colab": {
          "base_uri": "https://localhost:8080/"
        },
        "outputId": "c0f105ea-1d90-4dab-9e16-1c1939544a13"
      },
      "source": [
        "# Challenge 6: Kurtosis \n",
        "# ---\n",
        "# Find the kurtosis of end of reporting month surplus for the 90kg bags?\n",
        "# Dataset url = http://bit.ly/KisumuFoodSecurityDataset\n",
        "# ---\n",
        "# \n",
        "kisumu_food_security_df['End_of_reporting_month_surplus-_90_Kg_bags'].kurt()"
      ],
      "execution_count": 53,
      "outputs": [
        {
          "output_type": "execute_result",
          "data": {
            "text/plain": [
              "-0.007825909487768179"
            ]
          },
          "metadata": {
            "tags": []
          },
          "execution_count": 53
        }
      ]
    },
    {
      "cell_type": "markdown",
      "metadata": {
        "id": "kKZFF5-Q6d5c"
      },
      "source": [
        "### 1.33 Visualisation Techniques"
      ]
    },
    {
      "cell_type": "markdown",
      "metadata": {
        "id": "32s_izI76icw"
      },
      "source": [
        "#### 1.41 Box Plots"
      ]
    },
    {
      "cell_type": "code",
      "metadata": {
        "id": "Cf_cAZET6iHd",
        "colab": {
          "base_uri": "https://localhost:8080/",
          "height": 352
        },
        "outputId": "52da1d1d-19cb-47a5-9303-ba762a8b65c2"
      },
      "source": [
        "# Example 1\n",
        "# A boxplot is a standardized way of displaying the distribution of data based on a \n",
        "# five number summary (“minimum”, first quartile (Q1), median, third quartile (Q3), and “maximum”). \n",
        "# It can tell you about your outliers and what their values are. It can also tell you if your data is symmetrical, \n",
        "# how tightly your data is grouped, and if and how your data is skewed.\n",
        "# ---\n",
        "# Question: Plot a box plot of the average herbicide price\n",
        "# Dataset url = http://bit.ly/Kisumu-crop-statistics\n",
        "# ---\n",
        "#\n",
        "\n",
        "# Creating the boxplot\n",
        "#\n",
        "sns.boxplot(nakuru_county_herbicide_prices_df[\"Average_Price\"], showmeans=True)\n"
      ],
      "execution_count": 54,
      "outputs": [
        {
          "output_type": "stream",
          "text": [
            "/usr/local/lib/python3.7/dist-packages/seaborn/_decorators.py:43: FutureWarning: Pass the following variable as a keyword arg: x. From version 0.12, the only valid positional argument will be `data`, and passing other arguments without an explicit keyword will result in an error or misinterpretation.\n",
            "  FutureWarning\n"
          ],
          "name": "stderr"
        },
        {
          "output_type": "execute_result",
          "data": {
            "text/plain": [
              "<matplotlib.axes._subplots.AxesSubplot at 0x7fa67fa12390>"
            ]
          },
          "metadata": {
            "tags": []
          },
          "execution_count": 54
        },
        {
          "output_type": "display_data",
          "data": {
            "image/png": "[encoded data removed]",
            "text/plain": [
              "<Figure size 432x288 with 1 Axes>"
            ]
          },
          "metadata": {
            "tags": [],
            "needs_background": "light"
          }
        }
      ]
    },
    {
      "cell_type": "code",
      "metadata": {
        "id": "QcI9bqIq68t3",
        "colab": {
          "base_uri": "https://localhost:8080/",
          "height": 283
        },
        "outputId": "5ae4cb16-42a9-4aaf-a80f-b52a9e283c90"
      },
      "source": [
        "# Example 2\n",
        "# ---\n",
        "# Question: Using pandas, create a boxplot of the target yield bags per hectare during the long rains. \n",
        "# Dataset url = http://bit.ly/Kisumu-crop-statistics\n",
        "# ---\n",
        "#\n",
        "\n",
        "# Creating the boxplot\n",
        "#\n",
        "kisumu_crop_statistics_df.boxplot([\"TARGET_YIELD__BAG/HA_LONG_RAINS\"])"
      ],
      "execution_count": 55,
      "outputs": [
        {
          "output_type": "execute_result",
          "data": {
            "text/plain": [
              "<matplotlib.axes._subplots.AxesSubplot at 0x7fa67f44ff50>"
            ]
          },
          "metadata": {
            "tags": []
          },
          "execution_count": 55
        },
        {
          "output_type": "display_data",
          "data": {
            "image/png": "[encoded data removed]",
            "text/plain": [
              "<Figure size 432x288 with 1 Axes>"
            ]
          },
          "metadata": {
            "tags": [],
            "needs_background": "light"
          }
        }
      ]
    },
    {
      "cell_type": "markdown",
      "metadata": {
        "id": "DHNDapES6-4D"
      },
      "source": [
        "##### <font color=\"green\">1.41 Challenges</font>"
      ]
    },
    {
      "cell_type": "code",
      "metadata": {
        "id": "Np_EB-2g7EjP",
        "colab": {
          "base_uri": "https://localhost:8080/",
          "height": 283
        },
        "outputId": "873e5bf9-3e8f-4b0e-9387-36665c6c1b3d"
      },
      "source": [
        "# Challenge 1\n",
        "# ---\n",
        "# Question: Using pandas, create a boxplot of the target area per hectare during the short rains.\n",
        "# Dataset url = http://bit.ly/Kisumu-crop-statistics\n",
        "# ---\n",
        "# \n",
        "kisumu_crop_statistics_df.boxplot(['TARGET_AREA_HA_SHORT_RAINS'])"
      ],
      "execution_count": 56,
      "outputs": [
        {
          "output_type": "execute_result",
          "data": {
            "text/plain": [
              "<matplotlib.axes._subplots.AxesSubplot at 0x7fa67f36cd50>"
            ]
          },
          "metadata": {
            "tags": []
          },
          "execution_count": 56
        },
        {
          "output_type": "display_data",
          "data": {
            "image/png": "[encoded data removed]",
            "text/plain": [
              "<Figure size 432x288 with 1 Axes>"
            ]
          },
          "metadata": {
            "tags": [],
            "needs_background": "light"
          }
        }
      ]
    },
    {
      "cell_type": "code",
      "metadata": {
        "id": "woDc6x7z7Jhf",
        "colab": {
          "base_uri": "https://localhost:8080/",
          "height": 283
        },
        "outputId": "c6ab9867-adef-4261-9a2f-9a9ed088f899"
      },
      "source": [
        "# Challenge 2\n",
        "# ---\n",
        "# Question: Using pandas, create a boxplot of the target production bags the long rains.\n",
        "# Dataset url = http://bit.ly/Kisumu-crop-statistics\n",
        "# ---\n",
        "#\n",
        "kisumu_crop_statistics_df.boxplot(['TARGET_PRODUCTION_BAGS_LONG_RAINS'])"
      ],
      "execution_count": 57,
      "outputs": [
        {
          "output_type": "execute_result",
          "data": {
            "text/plain": [
              "<matplotlib.axes._subplots.AxesSubplot at 0x7fa67f309490>"
            ]
          },
          "metadata": {
            "tags": []
          },
          "execution_count": 57
        },
        {
          "output_type": "display_data",
          "data": {
            "image/png": "[encoded data removed]",
            "text/plain": [
              "<Figure size 432x288 with 1 Axes>"
            ]
          },
          "metadata": {
            "tags": [],
            "needs_background": "light"
          }
        }
      ]
    },
    {
      "cell_type": "markdown",
      "metadata": {
        "id": "NqN2REVg6xM7"
      },
      "source": [
        "#### 1.42 More Histograms"
      ]
    },
    {
      "cell_type": "code",
      "metadata": {
        "id": "cGxxrtln66MY",
        "colab": {
          "base_uri": "https://localhost:8080/",
          "height": 282
        },
        "outputId": "348f2614-5995-4b76-8fc5-31b022c2889a"
      },
      "source": [
        "# Example 1\n",
        "# ---\n",
        "# Question: Plot a histogram of target area during long rains in kisumu county.\n",
        "# Dataset url = http://bit.ly/Kisumu-crop-statistics\n",
        "# ---\n",
        "# \n",
        "\n",
        "# Plotting the histogram\n",
        "#\n",
        "kisumu_crop_statistics_df['TARGET_AREA_HA_LONG_RAINS'].hist()"
      ],
      "execution_count": 58,
      "outputs": [
        {
          "output_type": "execute_result",
          "data": {
            "text/plain": [
              "<matplotlib.axes._subplots.AxesSubplot at 0x7fa67f2baf10>"
            ]
          },
          "metadata": {
            "tags": []
          },
          "execution_count": 58
        },
        {
          "output_type": "display_data",
          "data": {
            "image/png": "[encoded data removed]",
            "text/plain": [
              "<Figure size 432x288 with 1 Axes>"
            ]
          },
          "metadata": {
            "tags": [],
            "needs_background": "light"
          }
        }
      ]
    },
    {
      "cell_type": "code",
      "metadata": {
        "id": "31CPj4mFH2X2",
        "colab": {
          "base_uri": "https://localhost:8080/",
          "height": 547
        },
        "outputId": "cc23ecca-f4e4-43a6-9f3d-41b625e85b49"
      },
      "source": [
        "kisumu_crop_statistics_df\n"
      ],
      "execution_count": 61,
      "outputs": [
        {
          "output_type": "execute_result",
          "data": {
            "text/html": [
              "<div>\n",
              "<style scoped>\n",
              "    .dataframe tbody tr th:only-of-type {\n",
              "        vertical-align: middle;\n",
              "    }\n",
              "\n",
              "    .dataframe tbody tr th {\n",
              "        vertical-align: top;\n",
              "    }\n",
              "\n",
              "    .dataframe thead th {\n",
              "        text-align: right;\n",
              "    }\n",
              "</style>\n",
              "<table border=\"1\" class=\"dataframe\">\n",
              "  <thead>\n",
              "    <tr style=\"text-align: right;\">\n",
              "      <th></th>\n",
              "      <th>SUB-COUNTY</th>\n",
              "      <th>PRODUCE</th>\n",
              "      <th>TARGET_AREA_HA_LONG_RAINS</th>\n",
              "      <th>TARGET_AREA_HA_SHORT_RAINS</th>\n",
              "      <th>TARGET_TOTAL_</th>\n",
              "      <th>TARGET_YIELD__BAG/HA_LONG_RAINS</th>\n",
              "      <th>TARGET_YIELD__BAG/HA_SHORT_RAINS</th>\n",
              "      <th>TARGET_PRODUCTION_BAGS_LONG_RAINS</th>\n",
              "      <th>TARGET_PRODUCTION_BAGS_SHORT_RAINS</th>\n",
              "      <th>TARGET_PRODUCTION_BAGS_TOTAL</th>\n",
              "      <th>ACHIEVEMENT_AREA_HA_LONG_RAINS</th>\n",
              "      <th>ACHIEVEMENT_AREA_HA_SHORT_RAINS</th>\n",
              "      <th>ACHIEVEMENT_TOTAL</th>\n",
              "      <th>PROJECTED_YIELD_BAG/HA_LONG_RAINS</th>\n",
              "      <th>PROJECTED_YIELD_BAG/HA_SHORT_RAINS</th>\n",
              "      <th>PROJECTED___PRODUCTION_BAGS_OF_90KG_EACH__LR</th>\n",
              "      <th>PROJECTED___PRODUCTION_BAGS_OF_90KG_EACH__SR</th>\n",
              "      <th>PROJECTED___PRODUCTION_BAGS_OF_90KG_EACH__TOTAL</th>\n",
              "      <th>PRICES_KSH/BAG_LONG_RAINS</th>\n",
              "      <th>PRICES_KSH/BAG_SHORT_RAINS</th>\n",
              "      <th>VALUE_KSH__LONG_RAINS</th>\n",
              "      <th>VALUE_KSH_SHORT_RAINS</th>\n",
              "      <th>VALUE_KSH_TOTAL</th>\n",
              "      <th>DATE</th>\n",
              "      <th>OBJECTID</th>\n",
              "    </tr>\n",
              "  </thead>\n",
              "  <tbody>\n",
              "    <tr>\n",
              "      <th>0</th>\n",
              "      <td>KISUMU WEST</td>\n",
              "      <td>Maize</td>\n",
              "      <td>8000</td>\n",
              "      <td>5000</td>\n",
              "      <td>6700</td>\n",
              "      <td>25</td>\n",
              "      <td>20</td>\n",
              "      <td>200000</td>\n",
              "      <td>100000</td>\n",
              "      <td>300000</td>\n",
              "      <td>7880</td>\n",
              "      <td>3000</td>\n",
              "      <td>10880</td>\n",
              "      <td>5</td>\n",
              "      <td>5.0</td>\n",
              "      <td>21670</td>\n",
              "      <td>25000.0</td>\n",
              "      <td>46670</td>\n",
              "      <td>0</td>\n",
              "      <td>0</td>\n",
              "      <td>0</td>\n",
              "      <td>0</td>\n",
              "      <td>0</td>\n",
              "      <td>9/16/16</td>\n",
              "      <td>0</td>\n",
              "    </tr>\n",
              "    <tr>\n",
              "      <th>1</th>\n",
              "      <td>SEME</td>\n",
              "      <td>Maize</td>\n",
              "      <td>8000</td>\n",
              "      <td>3500</td>\n",
              "      <td>13000</td>\n",
              "      <td>25</td>\n",
              "      <td>20</td>\n",
              "      <td>200000</td>\n",
              "      <td>70000</td>\n",
              "      <td>270000</td>\n",
              "      <td>7200</td>\n",
              "      <td>2000</td>\n",
              "      <td>9200</td>\n",
              "      <td>5</td>\n",
              "      <td>5.0</td>\n",
              "      <td>19800</td>\n",
              "      <td>17500.0</td>\n",
              "      <td>37300</td>\n",
              "      <td>0</td>\n",
              "      <td>0</td>\n",
              "      <td>0</td>\n",
              "      <td>0</td>\n",
              "      <td>0</td>\n",
              "      <td>9/16/16</td>\n",
              "      <td>1</td>\n",
              "    </tr>\n",
              "    <tr>\n",
              "      <th>2</th>\n",
              "      <td>KISUMU E</td>\n",
              "      <td>Maize</td>\n",
              "      <td>1500</td>\n",
              "      <td>750</td>\n",
              "      <td>2250</td>\n",
              "      <td>25</td>\n",
              "      <td>20</td>\n",
              "      <td>37500</td>\n",
              "      <td>15000</td>\n",
              "      <td>52500</td>\n",
              "      <td>1460</td>\n",
              "      <td>500</td>\n",
              "      <td>1960</td>\n",
              "      <td>5</td>\n",
              "      <td>5.0</td>\n",
              "      <td>4015</td>\n",
              "      <td>3750.0</td>\n",
              "      <td>7765</td>\n",
              "      <td>0</td>\n",
              "      <td>0</td>\n",
              "      <td>0</td>\n",
              "      <td>0</td>\n",
              "      <td>0</td>\n",
              "      <td>9/16/16</td>\n",
              "      <td>2</td>\n",
              "    </tr>\n",
              "    <tr>\n",
              "      <th>3</th>\n",
              "      <td>NYANDO</td>\n",
              "      <td>Maize</td>\n",
              "      <td>8200</td>\n",
              "      <td>4000</td>\n",
              "      <td>12200</td>\n",
              "      <td>25</td>\n",
              "      <td>20</td>\n",
              "      <td>205000</td>\n",
              "      <td>80000</td>\n",
              "      <td>285000</td>\n",
              "      <td>7640</td>\n",
              "      <td>1200</td>\n",
              "      <td>8840</td>\n",
              "      <td>5</td>\n",
              "      <td>5.0</td>\n",
              "      <td>21010</td>\n",
              "      <td>20000.0</td>\n",
              "      <td>41010</td>\n",
              "      <td>0</td>\n",
              "      <td>0</td>\n",
              "      <td>0</td>\n",
              "      <td>0</td>\n",
              "      <td>0</td>\n",
              "      <td>9/16/16</td>\n",
              "      <td>3</td>\n",
              "    </tr>\n",
              "    <tr>\n",
              "      <th>4</th>\n",
              "      <td>NYAKACH</td>\n",
              "      <td>Maize</td>\n",
              "      <td>10500</td>\n",
              "      <td>4500</td>\n",
              "      <td>15000</td>\n",
              "      <td>25</td>\n",
              "      <td>20</td>\n",
              "      <td>262500</td>\n",
              "      <td>90000</td>\n",
              "      <td>352500</td>\n",
              "      <td>9500</td>\n",
              "      <td>2400</td>\n",
              "      <td>11900</td>\n",
              "      <td>5</td>\n",
              "      <td>5.0</td>\n",
              "      <td>26125</td>\n",
              "      <td>22500.0</td>\n",
              "      <td>48625</td>\n",
              "      <td>0</td>\n",
              "      <td>0</td>\n",
              "      <td>0</td>\n",
              "      <td>0</td>\n",
              "      <td>0</td>\n",
              "      <td>9/16/16</td>\n",
              "      <td>4</td>\n",
              "    </tr>\n",
              "    <tr>\n",
              "      <th>...</th>\n",
              "      <td>...</td>\n",
              "      <td>...</td>\n",
              "      <td>...</td>\n",
              "      <td>...</td>\n",
              "      <td>...</td>\n",
              "      <td>...</td>\n",
              "      <td>...</td>\n",
              "      <td>...</td>\n",
              "      <td>...</td>\n",
              "      <td>...</td>\n",
              "      <td>...</td>\n",
              "      <td>...</td>\n",
              "      <td>...</td>\n",
              "      <td>...</td>\n",
              "      <td>...</td>\n",
              "      <td>...</td>\n",
              "      <td>...</td>\n",
              "      <td>...</td>\n",
              "      <td>...</td>\n",
              "      <td>...</td>\n",
              "      <td>...</td>\n",
              "      <td>...</td>\n",
              "      <td>...</td>\n",
              "      <td>...</td>\n",
              "      <td>...</td>\n",
              "    </tr>\n",
              "    <tr>\n",
              "      <th>61</th>\n",
              "      <td>SEME</td>\n",
              "      <td>Soya Beans</td>\n",
              "      <td>5</td>\n",
              "      <td>2</td>\n",
              "      <td>7</td>\n",
              "      <td>10</td>\n",
              "      <td>10</td>\n",
              "      <td>50</td>\n",
              "      <td>20</td>\n",
              "      <td>70</td>\n",
              "      <td>1</td>\n",
              "      <td>0</td>\n",
              "      <td>1</td>\n",
              "      <td>8</td>\n",
              "      <td>0.0</td>\n",
              "      <td>8</td>\n",
              "      <td>0.0</td>\n",
              "      <td>0</td>\n",
              "      <td>0</td>\n",
              "      <td>0</td>\n",
              "      <td>0</td>\n",
              "      <td>0</td>\n",
              "      <td>0</td>\n",
              "      <td>9/16/16</td>\n",
              "      <td>61</td>\n",
              "    </tr>\n",
              "    <tr>\n",
              "      <th>62</th>\n",
              "      <td>KISUMU E</td>\n",
              "      <td>Soya Beans</td>\n",
              "      <td>2</td>\n",
              "      <td>2</td>\n",
              "      <td>4</td>\n",
              "      <td>10</td>\n",
              "      <td>10</td>\n",
              "      <td>20</td>\n",
              "      <td>20</td>\n",
              "      <td>40</td>\n",
              "      <td>0</td>\n",
              "      <td>0</td>\n",
              "      <td>0</td>\n",
              "      <td>8</td>\n",
              "      <td>0.0</td>\n",
              "      <td>0</td>\n",
              "      <td>0.0</td>\n",
              "      <td>0</td>\n",
              "      <td>0</td>\n",
              "      <td>0</td>\n",
              "      <td>0</td>\n",
              "      <td>0</td>\n",
              "      <td>0</td>\n",
              "      <td>9/16/16</td>\n",
              "      <td>62</td>\n",
              "    </tr>\n",
              "    <tr>\n",
              "      <th>63</th>\n",
              "      <td>NYANDO</td>\n",
              "      <td>Soya Beans</td>\n",
              "      <td>5</td>\n",
              "      <td>2</td>\n",
              "      <td>7</td>\n",
              "      <td>10</td>\n",
              "      <td>10</td>\n",
              "      <td>50</td>\n",
              "      <td>20</td>\n",
              "      <td>70</td>\n",
              "      <td>2</td>\n",
              "      <td>10</td>\n",
              "      <td>12</td>\n",
              "      <td>8</td>\n",
              "      <td>0.0</td>\n",
              "      <td>16</td>\n",
              "      <td>0.0</td>\n",
              "      <td>0</td>\n",
              "      <td>0</td>\n",
              "      <td>0</td>\n",
              "      <td>0</td>\n",
              "      <td>0</td>\n",
              "      <td>0</td>\n",
              "      <td>9/16/16</td>\n",
              "      <td>63</td>\n",
              "    </tr>\n",
              "    <tr>\n",
              "      <th>64</th>\n",
              "      <td>NYAKACH</td>\n",
              "      <td>Soya Beans</td>\n",
              "      <td>5</td>\n",
              "      <td>2</td>\n",
              "      <td>7</td>\n",
              "      <td>10</td>\n",
              "      <td>10</td>\n",
              "      <td>50</td>\n",
              "      <td>20</td>\n",
              "      <td>70</td>\n",
              "      <td>1</td>\n",
              "      <td>0</td>\n",
              "      <td>1</td>\n",
              "      <td>8</td>\n",
              "      <td>0.0</td>\n",
              "      <td>8</td>\n",
              "      <td>0.0</td>\n",
              "      <td>0</td>\n",
              "      <td>0</td>\n",
              "      <td>0</td>\n",
              "      <td>0</td>\n",
              "      <td>0</td>\n",
              "      <td>0</td>\n",
              "      <td>9/16/16</td>\n",
              "      <td>64</td>\n",
              "    </tr>\n",
              "    <tr>\n",
              "      <th>65</th>\n",
              "      <td>MUHORONI</td>\n",
              "      <td>Soya Beans</td>\n",
              "      <td>300</td>\n",
              "      <td>300</td>\n",
              "      <td>600</td>\n",
              "      <td>10</td>\n",
              "      <td>10</td>\n",
              "      <td>3000</td>\n",
              "      <td>3000</td>\n",
              "      <td>6000</td>\n",
              "      <td>225</td>\n",
              "      <td>40</td>\n",
              "      <td>265</td>\n",
              "      <td>8</td>\n",
              "      <td>0.0</td>\n",
              "      <td>1800</td>\n",
              "      <td>0.0</td>\n",
              "      <td>0</td>\n",
              "      <td>0</td>\n",
              "      <td>0</td>\n",
              "      <td>0</td>\n",
              "      <td>0</td>\n",
              "      <td>0</td>\n",
              "      <td>9/16/16</td>\n",
              "      <td>65</td>\n",
              "    </tr>\n",
              "  </tbody>\n",
              "</table>\n",
              "<p>66 rows × 25 columns</p>\n",
              "</div>"
            ],
            "text/plain": [
              "     SUB-COUNTY     PRODUCE  ...     DATE  OBJECTID\n",
              "0   KISUMU WEST       Maize  ...  9/16/16         0\n",
              "1          SEME       Maize  ...  9/16/16         1\n",
              "2      KISUMU E       Maize  ...  9/16/16         2\n",
              "3        NYANDO       Maize  ...  9/16/16         3\n",
              "4       NYAKACH       Maize  ...  9/16/16         4\n",
              "..          ...         ...  ...      ...       ...\n",
              "61         SEME  Soya Beans  ...  9/16/16        61\n",
              "62     KISUMU E  Soya Beans  ...  9/16/16        62\n",
              "63       NYANDO  Soya Beans  ...  9/16/16        63\n",
              "64      NYAKACH  Soya Beans  ...  9/16/16        64\n",
              "65     MUHORONI  Soya Beans  ...  9/16/16        65\n",
              "\n",
              "[66 rows x 25 columns]"
            ]
          },
          "metadata": {
            "tags": []
          },
          "execution_count": 61
        }
      ]
    },
    {
      "cell_type": "code",
      "metadata": {
        "id": "jZ_y-wGN7Pro",
        "colab": {
          "base_uri": "https://localhost:8080/",
          "height": 352
        },
        "outputId": "162f44bc-c966-4547-8737-9158da9e6c60"
      },
      "source": [
        "# Example 2\n",
        "# ---\n",
        "# Question: Using Seaborn, Plot a histogram of target area for maize during long rains in kisumu county\n",
        "# ---\n",
        "#\n",
        "\n",
        "# Plotting our histogram\n",
        "#\n",
        "df = kisumu_crop_statistics_df[kisumu_crop_statistics_df.PRODUCE == 'Maize']\n",
        "sns.distplot(kisumu_crop_statistics_df['TARGET_AREA_HA_LONG_RAINS'],  kde=False,label='Maize')\n",
        "# df"
      ],
      "execution_count": 70,
      "outputs": [
        {
          "output_type": "stream",
          "text": [
            "/usr/local/lib/python3.7/dist-packages/seaborn/distributions.py:2557: FutureWarning: `distplot` is a deprecated function and will be removed in a future version. Please adapt your code to use either `displot` (a figure-level function with similar flexibility) or `histplot` (an axes-level function for histograms).\n",
            "  warnings.warn(msg, FutureWarning)\n"
          ],
          "name": "stderr"
        },
        {
          "output_type": "execute_result",
          "data": {
            "text/plain": [
              "<matplotlib.axes._subplots.AxesSubplot at 0x7fa67ee722d0>"
            ]
          },
          "metadata": {
            "tags": []
          },
          "execution_count": 70
        },
        {
          "output_type": "display_data",
          "data": {
            "image/png": "[encoded data removed]",
            "text/plain": [
              "<Figure size 432x288 with 1 Axes>"
            ]
          },
          "metadata": {
            "tags": [],
            "needs_background": "light"
          }
        }
      ]
    },
    {
      "cell_type": "markdown",
      "metadata": {
        "id": "uXIKUeun7Tz6"
      },
      "source": [
        "#### <font color=\"green\">1.43 Challenges</font>"
      ]
    },
    {
      "cell_type": "code",
      "metadata": {
        "id": "c20egYFA7ZQA",
        "colab": {
          "base_uri": "https://localhost:8080/",
          "height": 282
        },
        "outputId": "52c78d4d-c1b2-4dc1-8891-2512fdce10d3"
      },
      "source": [
        "# Challenge 1\n",
        "# ---\n",
        "# Question: Plot a histogram of weight in kgs for fish production\n",
        "# Dataset url = \"http://bit.ly/Kisumu-fish-production\"\n",
        "# ---\n",
        "# Preview dataset\n",
        "kisumu_fish_production_df['WEIGHT_KGS'].hist()"
      ],
      "execution_count": 66,
      "outputs": [
        {
          "output_type": "execute_result",
          "data": {
            "text/plain": [
              "<matplotlib.axes._subplots.AxesSubplot at 0x7fa67f2bd750>"
            ]
          },
          "metadata": {
            "tags": []
          },
          "execution_count": 66
        },
        {
          "output_type": "display_data",
          "data": {
            "image/png": "[encoded data removed]",
            "text/plain": [
              "<Figure size 432x288 with 1 Axes>"
            ]
          },
          "metadata": {
            "tags": [],
            "needs_background": "light"
          }
        }
      ]
    },
    {
      "cell_type": "code",
      "metadata": {
        "id": "8_NmsQOu7aTW",
        "colab": {
          "base_uri": "https://localhost:8080/",
          "height": 352
        },
        "outputId": "9d4ba970-308f-4090-b0d3-37485c6b3d38"
      },
      "source": [
        "# Challenge 2\n",
        "# ---\n",
        "# Question: Plot a histogram of target yield bags during short rains.\n",
        "# Dataset url = \"http://bit.ly/Kisumu-crop-statistics\"\n",
        "# ---\n",
        "# \n",
        "# kisumu_crop_statistics_df['TARGET_PRODUCTION_BAGS_SHORT_RAINS'].hist()\n",
        "sns.distplot(kisumu_crop_statistics_df['TARGET_PRODUCTION_BAGS_SHORT_RAINS'], kde=False)"
      ],
      "execution_count": 72,
      "outputs": [
        {
          "output_type": "stream",
          "text": [
            "/usr/local/lib/python3.7/dist-packages/seaborn/distributions.py:2557: FutureWarning: `distplot` is a deprecated function and will be removed in a future version. Please adapt your code to use either `displot` (a figure-level function with similar flexibility) or `histplot` (an axes-level function for histograms).\n",
            "  warnings.warn(msg, FutureWarning)\n"
          ],
          "name": "stderr"
        },
        {
          "output_type": "execute_result",
          "data": {
            "text/plain": [
              "<matplotlib.axes._subplots.AxesSubplot at 0x7fa67ed53510>"
            ]
          },
          "metadata": {
            "tags": []
          },
          "execution_count": 72
        },
        {
          "output_type": "display_data",
          "data": {
            "image/png": "[encoded data removed]",
            "text/plain": [
              "<Figure size 432x288 with 1 Axes>"
            ]
          },
          "metadata": {
            "tags": [],
            "needs_background": "light"
          }
        }
      ]
    },
    {
      "cell_type": "markdown",
      "metadata": {
        "id": "y2tpmU6oFKHX"
      },
      "source": [
        ""
      ]
    },
    {
      "cell_type": "code",
      "metadata": {
        "id": "gOGG_XWoFKiM"
      },
      "source": [
        ""
      ],
      "execution_count": null,
      "outputs": []
    }
  ]
}